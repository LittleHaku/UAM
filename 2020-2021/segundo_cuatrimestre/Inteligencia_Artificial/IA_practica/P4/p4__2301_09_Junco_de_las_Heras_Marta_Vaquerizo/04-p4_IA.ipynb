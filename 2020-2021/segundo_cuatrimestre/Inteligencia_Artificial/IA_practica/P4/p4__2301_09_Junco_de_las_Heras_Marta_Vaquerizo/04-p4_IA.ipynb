{
 "cells": [
  {
   "cell_type": "code",
   "execution_count": null,
   "metadata": {},
   "outputs": [],
   "source": [
    "# Autores: \n",
    "# Junco de las Heras Valenzuela junco.heras@estudiante.uam.es\n",
    "# Marta Vaquerizo Núñez marta.vaquerizo@estudiante.uam.es\n",
    "# Grupo 2301, Doble Grado."
   ]
  },
  {
   "cell_type": "markdown",
   "metadata": {},
   "source": [
    "## 4. Predicción de fugas de clientes en una compañía telefónica (7 puntos)"
   ]
  },
  {
   "cell_type": "markdown",
   "metadata": {},
   "source": [
    "Una compañía telefónica está interesada en que desarrollemos un modelo que prediga los **100 clientes actuales** (dataset de explotaación) que tienen más probabilidad de abandonar la compañía. Para ello nos proporcionan una base de datos **fuga_clientes_empresa_telefonica_construccion.csv** con casos etiquetados, que usaremos para construir nuestro modelo de predicción.\n",
    "\n",
    "Los campos de esta base de datos son:\n",
    "\n",
    "* **Customer ID**\n",
    "\n",
    "* **network_age**: antigüedad del cliente en días\n",
    "\n",
    "* **Customer tenure in months:** antigüedad del cliente en meses\n",
    "\n",
    "* **Total Spend in Months 1 and 2:** gasto total del cliente en los meses de referencia 1 y 2\n",
    "\n",
    "* **Total SMS Spend:** gasto total en SMS\n",
    "\n",
    "* **Total Data Spend:** gasto total en datos/internet\n",
    "\n",
    "* **Total Data Consumption:** consumo total de datos (en KB) durante el período de estudio\n",
    "\n",
    "* **Total Unique Calls:** número total de llamadas únicas\n",
    "\n",
    "* **Total Onnet spend:** gasto total en llamadas a otros usuarios de la misma red de telefonía\n",
    "\n",
    "* **Total Offnet spend:** gasto total en llamadas a otros usuarios de redes de telefonía diferentes\n",
    "\n",
    "* **Total Call centre complaint calls:** número de llamadas de queja al call center\n",
    "\n",
    "* **Network type subscription in Month 1:** suscripción de tipo de red en el mes 1. Esto indica la suscripción de red preferida de un cliente, lo que puede indicar su tipo de dispositivo: servicio 2G o 3G\n",
    "\n",
    "* **Network type subscription in Month 2:** igual que el anterior pero en el mes posterior\n",
    "\n",
    "* **Churn Status**: el valor es 1 si el cliente abandona la compañía telefónica, 0 si permanece en ella\n",
    "\n",
    "* **Most Loved Competitor network in Month 1:** qué otro proveedor de la competencia prefiere el cliente en el mes 1. En realidad es un conjunto de columnas, cada una enfocada en un proveedor particular\n",
    "\n",
    "* **Most Loved Competitor network in Month 2:** qué otro proveedor de la competencia prefiere el cliente en el mes 2. En realidad es un conjunto de columnas, cada una enfocada en un proveedor particular\n",
    "\n",
    "La variable a predecir es **Churn Status**: el valor es 1 si el cliente **abandona** la compañía, 0 si no la abandona.\n",
    "\n",
    "La compañía también nos proporciona otra base de datos, **fuga_clientes_empresa_telefonica_explotacion.csv**, con información sobre clientes de los que no se sabe ahora mismo si van a permanecer o no en la compañía. Por tanto en esta segunda base de datos todos los valores de la columna **Churn Status** son missing values (NaN).\n",
    "\n",
    "La compañía nos pide que proporcionemos los IDs de los 100 clientes de la base de datos de explotación que con mayor probabilidad vayan a abandonar la compañía. Para ello proporcionaremos como entregable a la compañía un archivo csv con una sola columna, **Customer ID**, y 100 filas que contengan los IDs de los clientes seleccionados.\n",
    "\n",
    "El fichero **ejemplo_fichero_predicciones.csv** contiene un ejemplo con el formato solicitado para este archivo."
   ]
  },
  {
   "cell_type": "code",
   "execution_count": 1,
   "metadata": {},
   "outputs": [],
   "source": [
    "import pandas as pd"
   ]
  },
  {
   "cell_type": "code",
   "execution_count": 2,
   "metadata": {},
   "outputs": [],
   "source": [
    "datos_construccion = pd.read_csv(\"./fuga_clientes_empresa_telefonica_construccion.csv\")\n",
    "datos_explotacion  = pd.read_csv(\"./fuga_clientes_empresa_telefonica_explotacion.csv\")"
   ]
  },
  {
   "cell_type": "code",
   "execution_count": 3,
   "metadata": {},
   "outputs": [
    {
     "data": {
      "text/plain": "Index(['Customer ID', 'network_age', 'Customer tenure in month',\n       'Total Spend in Months 1 and 2', 'Total SMS Spend', 'Total Data Spend',\n       'Total Data Consumption', 'Total Unique Calls', 'Total Onnet spend',\n       'Total Offnet spend', 'Total Call centre complaint calls',\n       'Churn Status', 'Most Loved Competitor network in Month 1_0',\n       'Most Loved Competitor network in Month 1_Mango',\n       'Most Loved Competitor network in Month 1_PQza',\n       'Most Loved Competitor network in Month 1_ToCall',\n       'Most Loved Competitor network in Month 1_Uxaa',\n       'Most Loved Competitor network in Month 1_Weematel',\n       'Most Loved Competitor network in Month 1_Zintel',\n       'Most Loved Competitor network in Month 2_Mango',\n       'Most Loved Competitor network in Month 2_PQza',\n       'Most Loved Competitor network in Month 2_ToCall',\n       'Most Loved Competitor network in Month 2_Uxaa',\n       'Most Loved Competitor network in Month 2_Weematel',\n       'Most Loved Competitor network in Month 2_Zintel'],\n      dtype='object')"
     },
     "execution_count": 3,
     "metadata": {},
     "output_type": "execute_result"
    }
   ],
   "source": [
    "datos_construccion.columns"
   ]
  },
  {
   "cell_type": "code",
   "execution_count": 4,
   "metadata": {},
   "outputs": [
    {
     "data": {
      "text/plain": "Index(['Customer ID', 'network_age', 'Customer tenure in month',\n       'Total Spend in Months 1 and 2', 'Total SMS Spend', 'Total Data Spend',\n       'Total Data Consumption', 'Total Unique Calls', 'Total Onnet spend',\n       'Total Offnet spend', 'Total Call centre complaint calls',\n       'Churn Status', 'Most Loved Competitor network in Month 1_0',\n       'Most Loved Competitor network in Month 1_Mango',\n       'Most Loved Competitor network in Month 1_PQza',\n       'Most Loved Competitor network in Month 1_ToCall',\n       'Most Loved Competitor network in Month 1_Uxaa',\n       'Most Loved Competitor network in Month 1_Weematel',\n       'Most Loved Competitor network in Month 1_Zintel',\n       'Most Loved Competitor network in Month 2_Mango',\n       'Most Loved Competitor network in Month 2_PQza',\n       'Most Loved Competitor network in Month 2_ToCall',\n       'Most Loved Competitor network in Month 2_Uxaa',\n       'Most Loved Competitor network in Month 2_Weematel',\n       'Most Loved Competitor network in Month 2_Zintel'],\n      dtype='object')"
     },
     "execution_count": 4,
     "metadata": {},
     "output_type": "execute_result"
    }
   ],
   "source": [
    "datos_explotacion.columns"
   ]
  },
  {
   "cell_type": "code",
   "execution_count": 5,
   "metadata": {},
   "outputs": [
    {
     "data": {
      "text/plain": "0"
     },
     "execution_count": 5,
     "metadata": {},
     "output_type": "execute_result"
    }
   ],
   "source": [
    "# chequeo de que las columnas son exactamente las mismas en los dos ficheros:\n",
    "\n",
    "sum(datos_construccion.columns != datos_explotacion.columns)"
   ]
  },
  {
   "cell_type": "code",
   "execution_count": 6,
   "metadata": {},
   "outputs": [
    {
     "data": {
      "text/plain": "array([0, 0, 0, 0, 0, 0, 0, 1, 1, 1])"
     },
     "execution_count": 6,
     "metadata": {},
     "output_type": "execute_result"
    }
   ],
   "source": [
    "# la columna a predecir es \"Churn Status\"\n",
    "# si es 1, el cliente se va de la compañía\n",
    "# si es 0, el cliente se queda\n",
    "\n",
    "# Esta columna se sabe en el dataset de construcción (ejemplos de clientes pasados):\n",
    "datos_construccion[\"Churn Status\"].values[:10]"
   ]
  },
  {
   "cell_type": "code",
   "execution_count": 7,
   "metadata": {},
   "outputs": [
    {
     "data": {
      "text/plain": "array([nan, nan, nan, nan, nan, nan, nan, nan, nan, nan])"
     },
     "execution_count": 7,
     "metadata": {},
     "output_type": "execute_result"
    }
   ],
   "source": [
    "# Sin embargo no se sabe en el dataset de explotación (clientes actuales):\n",
    "datos_explotacion[\"Churn Status\"].values[:10]"
   ]
  },
  {
   "cell_type": "code",
   "execution_count": 8,
   "metadata": {},
   "outputs": [
    {
     "name": "stdout",
     "output_type": "stream",
     "text": [
      "MLP scores: 0.5487464840406017 +/- 0.03351998038829762\n",
      "DecisionTree scores: 0.7679629856100443 +/- 0.06198384808960889\n",
      "KNN scores: 0.6325791855203621 +/- 0.07514878451860649\n",
      "Naive Bayes scores: 0.6272430801842567 +/- 0.019958048609438228\n",
      "Logistic Regression scores: 0.6200766377236965 +/- 0.031822096525812325\n"
     ]
    }
   ],
   "source": [
    "from sklearn.neural_network import MLPClassifier\n",
    "from sklearn.tree import DecisionTreeClassifier\n",
    "from sklearn.model_selection import cross_val_score\n",
    "from sklearn.neighbors import KNeighborsClassifier\n",
    "from sklearn.naive_bayes import GaussianNB\n",
    "from sklearn.linear_model import LogisticRegression\n",
    "\n",
    "atributos = list(datos_construccion.columns)\n",
    "# Se elimina el atributo que vamos a predecir\n",
    "atributos.remove(\"Churn Status\")\n",
    "# Customer ID es irrelevante en nuestro caso ya que todos\n",
    "# los clientes tienen un ID distinto, no debería influir en nuestro modelo.\n",
    "atributos.remove(\"Customer ID\")\n",
    "# Como tenemos network_age, el tiempo en dias,\n",
    "# no necesitamos el tiempo en meses, que da menos precision.\n",
    "atributos.remove(\"Customer tenure in month\")\n",
    "\n",
    "# Se elimina las instancias con los network_age menores que cero (los hay).\n",
    "mask = datos_construccion['network_age'] >= 0\n",
    "df = datos_construccion[mask]\n",
    "\n",
    "X = df[atributos].values\n",
    "y = df[\"Churn Status\"].values\n",
    "\n",
    "# Comprobamos los 5 modelos de clasificadores que tenemos\n",
    "# para elegir cual vamos a usar.\n",
    "\n",
    "# 57 score.\n",
    "hls = [30 for _ in range(1, 8)]\n",
    "clf = MLPClassifier(hidden_layer_sizes=hls, max_iter=1000,alpha=0)\n",
    "\n",
    "scores = cross_val_score(clf, X, y, cv=5)\n",
    "print('MLP scores:', scores.mean(), '+/-', scores.std())\n",
    "\n",
    "# 76 score.\n",
    "clf = DecisionTreeClassifier(max_depth=5)\n",
    "\n",
    "scores = cross_val_score(clf, X, y, cv=5)\n",
    "print('DecisionTree scores:', scores.mean(), '+/-', scores.std())\n",
    "\n",
    "# 63 score.\n",
    "clf = KNeighborsClassifier(n_neighbors=14)\n",
    "\n",
    "scores = cross_val_score(clf, X, y, cv=5)\n",
    "print('KNN scores:', scores.mean(), '+/-', scores.std())\n",
    "\n",
    "# 62 score.\n",
    "clf = GaussianNB()\n",
    "\n",
    "scores = cross_val_score(clf, X, y, cv=5)\n",
    "print('Naive Bayes scores:', scores.mean(), '+/-', scores.std())\n",
    "\n",
    "# 62 score.\n",
    "clf = LogisticRegression(C=1e10,solver='lbfgs', max_iter=1000)\n",
    "\n",
    "scores = cross_val_score(clf, X, y, cv=5)\n",
    "print('Logistic Regression scores:', scores.mean(), '+/-', scores.std())\n"
   ]
  },
  {
   "cell_type": "code",
   "execution_count": 9,
   "metadata": {},
   "outputs": [],
   "source": [
    "# El clasificador que da mejor score es el de Decision Tree, lo usamos.\n",
    "clf = clf = DecisionTreeClassifier(max_depth=5)\n",
    "clf.fit(X, y)\n",
    "\n",
    "atributos2 = list(datos_explotacion.columns)\n",
    "atributos2.remove(\"Churn Status\")\n",
    "atributos2.remove(\"Customer ID\")\n",
    "atributos2.remove(\"Customer tenure in month\")\n",
    "\n",
    "# Elimina instancias con elementos negativos de network_age.\n",
    "# Se puede comprobar con df.describe()\n",
    "mask2 = datos_explotacion['network_age'] >= 0\n",
    "df2 = datos_explotacion[mask2]\n",
    "\n",
    "\n",
    "nuevoSet = df2[atributos2].values\n",
    "# Devuelve una lista con elementos de la forma [prob0 prob1]\n",
    "# donde prob0 es la probabilidad de que la instancia sea de la \n",
    "# clase 0 y prob1 la probabilidad de que la instancia sea de la\n",
    "# clase 1.\n",
    "probabilidades = clf.predict_proba(nuevoSet)\n",
    "# Resultado tiene los elementos [prob1, cont] donde prob1 es la probabilidad\n",
    "# de que el cliente se vaya de la compañia y cont es el numero de \n",
    "# cliente en el dataset, para luego sacar el ID. \n",
    "resultado = []\n",
    "cont = 0\n",
    "for el in probabilidades:\n",
    "    resultado += [[el[1], cont]]\n",
    "    cont += 1\n",
    "# Una vez sacado resultado se ordena de mayor a menor prob1.\n",
    "resultado.sort(reverse = True)\n",
    "ids = []\n",
    "cont = 0\n",
    "# Se cogen los 100 primeros resultads (clientes con\n",
    "# mayor probabilidad de irse) y se guardan en ids.\n",
    "for el in resultado:\n",
    "    if cont >= 100:\n",
    "        break\n",
    "    ids += [df2['Customer ID'][el[1]]]\n",
    "    cont += 1\n"
   ]
  },
  {
   "cell_type": "code",
   "execution_count": 10,
   "metadata": {},
   "outputs": [],
   "source": [
    "# Se guardan los ids en un fichero csv nuevo.\n",
    "my_df = pd.DataFrame(ids) \n",
    "my_df.to_csv('fichero_predicciones.csv', index=False, header=['Customer ID'], sep='\\n')"
   ]
  }
 ],
 "metadata": {
  "kernelspec": {
   "display_name": "Python 2",
   "language": "python",
   "name": "python2"
  },
  "language_info": {
   "codemirror_mode": {
    "name": "ipython",
    "version": 3
   },
   "file_extension": ".py",
   "mimetype": "text/x-python",
   "name": "python",
   "nbconvert_exporter": "python",
   "pygments_lexer": "ipython3",
   "version": "3.6.9"
  }
 },
 "nbformat": 4,
 "nbformat_minor": 2
}