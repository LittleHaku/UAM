{
 "cells": [
  {
   "cell_type": "code",
   "execution_count": null,
   "metadata": {},
   "outputs": [],
   "source": [
    "# Autores: \n",
    "# Junco de las Heras Valenzuela junco.heras@estudiante.uam.es\n",
    "# Marta Vaquerizo Núñez marta.vaquerizo@estudiante.uam.es\n",
    "# Grupo 2301, Doble Grado."
   ]
  },
  {
   "cell_type": "markdown",
   "metadata": {
    "colab_type": "text",
    "id": "5QZv0KWtnzyA"
   },
   "source": [
    "## 3. Clasificación de caracteres manuscritos (OCR) (OPCIONAL)"
   ]
  },
  {
   "cell_type": "markdown",
   "metadata": {},
   "source": [
    "En este apartado entrenaremos una red neuronal para que aprenda a clasificar automáticamente imágenes de dígitos escritos a mano. Este es un ejemplo de OCR (Optical Character Recognition) que utilizan empresas como Correos para interpretar automáticamente los datos de remitente escritos a mano en el sobre, previamente capturados con una cámara."
   ]
  },
  {
   "cell_type": "code",
   "execution_count": 1,
   "metadata": {
    "colab": {},
    "colab_type": "code",
    "id": "3WoEHYtK5lZO"
   },
   "outputs": [],
   "source": [
    "import matplotlib.pyplot as plt\n",
    "from sklearn.datasets import fetch_openml\n",
    "import numpy as np\n",
    "\n",
    "%matplotlib inline"
   ]
  },
  {
   "cell_type": "markdown",
   "metadata": {
    "colab_type": "text",
    "id": "QwqVNXHb5lZa"
   },
   "source": [
    "## 3.1. Carga de datos"
   ]
  },
  {
   "cell_type": "markdown",
   "metadata": {},
   "source": [
    "Usaremos la base de datos **MNIST**, muy usada en Machine Learning para poner a prueba algoritmos. A continuación la cargamos:"
   ]
  },
  {
   "cell_type": "code",
   "execution_count": 2,
   "metadata": {
    "colab": {},
    "colab_type": "code",
    "id": "MgAKDP665lZd"
   },
   "outputs": [],
   "source": [
    "X, y = fetch_openml('mnist_784', version=1, return_X_y=True)\n",
    "X = X / 255. # reescalado de datos para que los datos de píxeles vayan de 0 a 1\n",
    "y = y.astype(int) # las etiquetas leídas son de tipo str: las convertimos a int"
   ]
  },
  {
   "cell_type": "code",
   "execution_count": 4,
   "metadata": {
    "colab": {
     "base_uri": "https://localhost:8080/",
     "height": 105
    },
    "colab_type": "code",
    "executionInfo": {
     "elapsed": 20348,
     "status": "ok",
     "timestamp": 1573029625657,
     "user": {
      "displayName": "Manuel Sánchez-Montañés",
      "photoUrl": "",
      "userId": "17112108692206476645"
     },
     "user_tz": -60
    },
    "id": "1esl-fKD5lZp",
    "outputId": "e0255334-ee29-44b0-e66e-95b05723d387"
   },
   "outputs": [
    {
     "name": "stdout",
     "output_type": "stream",
     "text": [
      "<type 'numpy.ndarray'>\n",
      "(70000, 784)\n",
      "<type 'numpy.ndarray'>\n",
      "(70000,)\n",
      "[5 0 4 1 9 2 1 3 1 4]\n"
     ]
    }
   ],
   "source": [
    "print(type(X))\n",
    "print(X.shape)\n",
    "print(type(y))\n",
    "print(y.shape)\n",
    "\n",
    "print(y[:10])"
   ]
  },
  {
   "cell_type": "code",
   "execution_count": 5,
   "metadata": {
    "colab": {
     "base_uri": "https://localhost:8080/",
     "height": 35
    },
    "colab_type": "code",
    "executionInfo": {
     "elapsed": 20337,
     "status": "ok",
     "timestamp": 1573029625659,
     "user": {
      "displayName": "Manuel Sánchez-Montañés",
      "photoUrl": "",
      "userId": "17112108692206476645"
     },
     "user_tz": -60
    },
    "id": "rlkA3Uhi5lZu",
    "outputId": "d8537ff1-55b4-4d46-877d-5a7a277344c3"
   },
   "outputs": [
    {
     "data": {
      "text/plain": [
       "array([0, 1, 2, 3, 4, 5, 6, 7, 8, 9])"
      ]
     },
     "execution_count": 5,
     "metadata": {},
     "output_type": "execute_result"
    }
   ],
   "source": [
    "n_clases = len(np.unique(y))\n",
    "np.unique(y)"
   ]
  },
  {
   "cell_type": "code",
   "execution_count": 4,
   "metadata": {
    "colab": {
     "base_uri": "https://localhost:8080/",
     "height": 122
    },
    "colab_type": "code",
    "executionInfo": {
     "elapsed": 20804,
     "status": "ok",
     "timestamp": 1573029626157,
     "user": {
      "displayName": "Manuel Sánchez-Montañés",
      "photoUrl": "",
      "userId": "17112108692206476645"
     },
     "user_tz": -60
    },
    "id": "i4XLhhEG5lZ_",
    "outputId": "d993b23b-0c70-418a-a20d-f9ed48fb9715"
   },
   "outputs": [
    {
     "name": "stdout",
     "output_type": "stream",
     "text": [
      "(52500, 784)\n",
      "(52500,)\n",
      "(17500, 784)\n",
      "(17500,)\n"
     ]
    },
    {
     "data": {
      "text/plain": [
       "(0.0, 1.0)"
      ]
     },
     "execution_count": 4,
     "metadata": {},
     "output_type": "execute_result"
    }
   ],
   "source": [
    "from sklearn.model_selection import train_test_split\n",
    "\n",
    "X_train, X_test, y_train, y_test = train_test_split(X, y, test_size=0.25,\n",
    "                                                    random_state=1)\n",
    "\n",
    "print(X_train.shape)\n",
    "print(y_train.shape)\n",
    "print(X_test.shape)\n",
    "print(y_test.shape)\n",
    "\n",
    "X.min(), X.max()"
   ]
  },
  {
   "cell_type": "code",
   "execution_count": 5,
   "metadata": {
    "colab": {
     "base_uri": "https://localhost:8080/",
     "height": 1000
    },
    "colab_type": "code",
    "executionInfo": {
     "elapsed": 21668,
     "status": "ok",
     "timestamp": 1573029627031,
     "user": {
      "displayName": "Manuel Sánchez-Montañés",
      "photoUrl": "",
      "userId": "17112108692206476645"
     },
     "user_tz": -60
    },
    "id": "y49O1lHj5laD",
    "outputId": "bc0f2b8b-4564-4e79-c2b1-6bd28bdbfdb1"
   },
   "outputs": [
    {
     "data": {
      "image/png": "[encoded data removed]",
      "text/plain": [
       "<Figure size 504x504 with 16 Axes>"
      ]
     },
     "metadata": {},
     "output_type": "display_data"
    }
   ],
   "source": [
    "plt.figure(figsize=(7,7))\n",
    "primero = 5000\n",
    "for i in range(16):\n",
    "    plt.subplot(4,4,i+1)\n",
    "    plt.imshow(X_train[primero+i].reshape(28, 28), cmap=plt.cm.gray)\n",
    "    plt.title(\"y={}\".format(y_train[primero+i]))\n",
    "    plt.xticks([])\n",
    "    plt.yticks([])"
   ]
  },
  {
   "cell_type": "markdown",
   "metadata": {
    "colab_type": "text",
    "id": "ebD8M0fJ5laJ"
   },
   "source": [
    "## 3.2. Construcción de la Red neuronal"
   ]
  },
  {
   "cell_type": "code",
   "execution_count": 6,
   "metadata": {
    "colab": {},
    "colab_type": "code",
    "id": "5lPZUg_x2Brd"
   },
   "outputs": [],
   "source": [
    "from sklearn.neural_network import MLPClassifier\n",
    "%matplotlib inline"
   ]
  },
  {
   "cell_type": "code",
   "execution_count": 11,
   "metadata": {
    "colab": {},
    "colab_type": "code",
    "id": "umOAbAZA5laK"
   },
   "outputs": [
    {
     "data": {
      "text/plain": [
       "MLPClassifier(activation='relu', alpha=0, batch_size='auto', beta_1=0.9,\n",
       "       beta_2=0.999, early_stopping=False, epsilon=1e-08,\n",
       "       hidden_layer_sizes=(50,), learning_rate='constant',\n",
       "       learning_rate_init=0.001, max_iter=1000, momentum=0.9,\n",
       "       n_iter_no_change=10, nesterovs_momentum=True, power_t=0.5,\n",
       "       random_state=None, shuffle=True, solver='adam', tol=0.0001,\n",
       "       validation_fraction=0.1, verbose=False, warm_start=False)"
      ]
     },
     "execution_count": 11,
     "metadata": {},
     "output_type": "execute_result"
    }
   ],
   "source": [
    "# Rellena esta casilla con código para crear y entrenar\n",
    "# un objeto de nombre MLP y clase MLPClassifier. Usa una capa oculta y 50 neuronas. \n",
    "\n",
    "# clf es MLP con max_iter=1000. Tambien hemos probado cambiando max_iter \n",
    "# a 100 y a 10, para comprobar como cambiaban los scores.\n",
    "clf = MLPClassifier(hidden_layer_sizes=(50,), max_iter=1000, alpha=0)\n",
    "clf.fit(X_train, y_train) \n"
   ]
  },
  {
   "cell_type": "code",
   "execution_count": 15,
   "metadata": {},
   "outputs": [
    {
     "data": {
      "text/plain": [
       "MLPClassifier(activation='relu', alpha=0, batch_size='auto', beta_1=0.9,\n",
       "       beta_2=0.999, early_stopping=False, epsilon=1e-08,\n",
       "       hidden_layer_sizes=(50,), learning_rate='constant',\n",
       "       learning_rate_init=0.001, max_iter=100, momentum=0.9,\n",
       "       n_iter_no_change=10, nesterovs_momentum=True, power_t=0.5,\n",
       "       random_state=None, shuffle=True, solver='adam', tol=0.0001,\n",
       "       validation_fraction=0.1, verbose=False, warm_start=False)"
      ]
     },
     "execution_count": 15,
     "metadata": {},
     "output_type": "execute_result"
    }
   ],
   "source": [
    "# MLP Probado con max_iter=100.\n",
    "clf2 = MLPClassifier(hidden_layer_sizes=(50,), max_iter=100, alpha=0)\n",
    "clf2.fit(X_train, y_train) "
   ]
  },
  {
   "cell_type": "code",
   "execution_count": 17,
   "metadata": {},
   "outputs": [
    {
     "data": {
      "text/plain": [
       "MLPClassifier(activation='relu', alpha=0, batch_size='auto', beta_1=0.9,\n",
       "       beta_2=0.999, early_stopping=False, epsilon=1e-08,\n",
       "       hidden_layer_sizes=(50,), learning_rate='constant',\n",
       "       learning_rate_init=0.001, max_iter=10, momentum=0.9,\n",
       "       n_iter_no_change=10, nesterovs_momentum=True, power_t=0.5,\n",
       "       random_state=None, shuffle=True, solver='adam', tol=0.0001,\n",
       "       validation_fraction=0.1, verbose=False, warm_start=False)"
      ]
     },
     "execution_count": 17,
     "metadata": {},
     "output_type": "execute_result"
    }
   ],
   "source": [
    "# MLP probado con max_iter=10.\n",
    "clf3 = MLPClassifier(hidden_layer_sizes=(50,), max_iter=10, alpha=0)\n",
    "clf3.fit(X_train, y_train) "
   ]
  },
  {
   "cell_type": "markdown",
   "metadata": {},
   "source": [
    "Calcula en la siguiente casilla los scores en training y test."
   ]
  },
  {
   "cell_type": "code",
   "execution_count": 18,
   "metadata": {},
   "outputs": [
    {
     "name": "stdout",
     "output_type": "stream",
     "text": [
      "0.9705714285714285 0.9697714285714286 0.9618285714285715 1.0 1.0 0.9776952380952381\n"
     ]
    }
   ],
   "source": [
    "test = clf.score(X_test, y_test)\n",
    "train = clf.score(X_train, y_train)\n",
    "test2 = clf2.score(X_test, y_test)\n",
    "train2 = clf2.score(X_train, y_train)\n",
    "test3 = clf3.score(X_test, y_test)\n",
    "train3 = clf3.score(X_train, y_train)\n",
    "print(test, test2, test3, train, train2, train3)"
   ]
  },
  {
   "cell_type": "code",
   "execution_count": null,
   "metadata": {},
   "outputs": [],
   "source": [
    "# Se han creado tres clasificadores con el mismo número de capas y de neuronas, \n",
    "# pero con distintas iteraciones. Se puede observar que para el primer\n",
    "# clasificador (1000 iteraciones), el score de los datos del entrenamiento \n",
    "# es 1.0, es decir, perfecto, cosa que también ocurre en el segundo\n",
    "# clasificador (100 iteraciones). En el último clasificador (10 iteraciones) no,\n",
    "# incluso en los datos de entrenamiento no tiene score 1.0,\n",
    "# eso se debe a que no ha entrenado lo suficiente, pero aún así \n",
    "# está bastante cerca.\n",
    "# \n",
    "# Se puede comprobar que el score disminuye (se aleja del 1.0)\n",
    "# a medida que disminuimos el número de iteraciones de entrenamiento. "
   ]
  },
  {
   "cell_type": "markdown",
   "metadata": {},
   "source": [
    "## 3.3 Búsqueda en rejilla."
   ]
  },
  {
   "cell_type": "markdown",
   "metadata": {},
   "source": [
    "¿Opinas que otra configuración de los hiper-parámetros puede resolver el problema mas eficientemente? Es lo mas probable. Vamos ahora a cambiar el valor de los hiper-parámetros de la red neuronal y a devolver como red definitiva la que minimize la estimación del error de generalización. Para ello hay que hacer dos cosas. La primera, cambiar el modo en el que estimamos el error de generalización. Si basamos nuestro resultado en el error proporcionado por el test, haremos overfitting en el conjunto de test. Por ello debemos cambiar esta estimación. Estimaremos el error de generalización de cada red usando Nested Cross Validation. Por otro lado, haremos una búsqueda en rejilla de los hiper-parámetros óptimos. Devolveremos el valor de los hiper-parámetros que optimize esa estimación del error de la red. Adapta el código que encontrarás en https://scikit-learn.org/stable/auto_examples/model_selection/plot_nested_cross_validation_iris.html al problema MNIST y al espacio de hiper-parámetros de la red neuronal (cambiando el valor de la variable p_grid). Prueba a incluir en la rejilla el número de capas ocultas, el número de neuronas de las capas ocultas (haz que todas tengan el mismo número), la tasa de aprendizaje o la función de activación. Recuerda que en https://scikit-learn.org/stable/modules/generated/sklearn.neural_network.MLPClassifier.html tienes información sobre cada uno de los hiper-parámetros. Eres libre de elegir los valores y los hiper-parámetros que consideres. Antes de configurar la rejilla, lee un poco sobre cada uno de los hiper-parámetros para asegurarte de que tiene sentido tu búsqueda."
   ]
  },
  {
   "cell_type": "code",
   "execution_count": 4,
   "metadata": {},
   "outputs": [
    {
     "name": "stdout",
     "output_type": "stream",
     "text": [
      "Automatically created module for IPython interactive environment\n"
     ]
    }
   ],
   "source": [
    "from sklearn.svm import SVC\n",
    "from sklearn.model_selection import GridSearchCV, cross_val_score, KFold\n",
    "\n",
    "print(__doc__)"
   ]
  },
  {
   "cell_type": "code",
   "execution_count": null,
   "metadata": {},
   "outputs": [],
   "source": [
    "# Number of trials\n",
    "NUM_TRIALS = 1\n",
    "\n",
    "# Set up possible values of parameters to optimize over\n",
    "p_grid = {\"C\": [50]}\n",
    "\n",
    "# We will use a Support Vector Classifier with \"rbf\" kernel\n",
    "svm = SVC(kernel=\"rbf\")\n",
    "\n",
    "# Arrays to store scores\n",
    "non_nested_scores = np.zeros(NUM_TRIALS)\n",
    "nested_scores = np.zeros(NUM_TRIALS)\n",
    "\n",
    "# Loop for each trial\n",
    "for i in range(NUM_TRIALS):\n",
    "    # Non_nested parameter search and scoring\n",
    "    clf1 = GridSearchCV(estimator=svm, param_grid=p_grid, cv=5)\n",
    "    clf1.fit(X, y)\n",
    "    non_nested_scores[i] = clf1.best_score_\n",
    "\n",
    "    # Nested CV with parameter optimization\n",
    "    nested_score = cross_val_score(clf1, X=X, y=y, cv=5)\n",
    "    nested_scores[i] = nested_score.mean()\n",
    "score_difference = non_nested_scores - nested_scores\n",
    "\n",
    "print(\"Average difference of {:6f} with std. dev. of {:6f}.\"\n",
    "      .format(score_difference.mean(), score_difference.std()))\n",
    "\n",
    "# Nota, no hay output en esta celda debido a que consumia mucho tiempo.\n",
    "# Hemos reducido el NUM_TRIALS (Numero de iteraciones) de 30 a 1 pero aun\n",
    "# asi no acababa de ejecutarse en 2 horas asi que lo hemos tenido que parar. \n",
    "# También se ha variado el parámetro p_grid, pero tampoco se termina de ejecutar\n",
    "# en nuestros ordenadores.\n",
    "# Pero la idea era variar el p_grid con distintas capas (con el mismo número de neuronas)\n",
    "# para un número razonable de trials.\n"
   ]
  }
 ],
 "metadata": {
  "colab": {
   "collapsed_sections": [],
   "name": "01-nn_mnist_clasificacion_ML.ipynb",
   "provenance": []
  },
  "kernelspec": {
   "display_name": "Python 2",
   "language": "python",
   "name": "python2"
  },
  "language_info": {
   "codemirror_mode": {
    "name": "ipython",
    "version": 2
   },
   "file_extension": ".py",
   "mimetype": "text/x-python",
   "name": "python",
   "nbconvert_exporter": "python",
   "pygments_lexer": "ipython2",
   "version": "2.7.15"
  }
 },
 "nbformat": 4,
 "nbformat_minor": 1
}
